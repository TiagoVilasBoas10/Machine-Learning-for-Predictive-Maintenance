{
 "cells": [
  {
   "cell_type": "markdown",
   "metadata": {},
   "source": [
    "# Detección de anomalías"
   ]
  },
  {
   "cell_type": "code",
   "execution_count": 1,
   "metadata": {},
   "outputs": [
    {
     "name": "stderr",
     "output_type": "stream",
     "text": [
      "C:\\Users\\ayfdcp\\AppData\\Local\\Continuum\\anaconda3\\lib\\site-packages\\h5py\\__init__.py:36: FutureWarning: Conversion of the second argument of issubdtype from `float` to `np.floating` is deprecated. In future, it will be treated as `np.float64 == np.dtype(float).type`.\n",
      "  from ._conv import register_converters as _register_converters\n",
      "Using TensorFlow backend.\n"
     ]
    }
   ],
   "source": [
    "import numpy as np\n",
    "import seaborn as sns\n",
    "import matplotlib.pyplot as plt\n",
    "import pandas as pd\n",
    "\n",
    "from keras.layers.core import Dense \n",
    "from keras.models import Model, Sequential\n",
    "from keras import regularizers"
   ]
  },
  {
   "cell_type": "markdown",
   "metadata": {},
   "source": [
    "## Carga de datos del fichero 'df_rolling_3d.pkl'"
   ]
  },
  {
   "cell_type": "code",
   "execution_count": 2,
   "metadata": {
    "scrolled": false
   },
   "outputs": [],
   "source": [
    "df = pd.read_pickle('df_rolling_3d.pkl')\n",
    "ROLLING_DAYS = 3"
   ]
  },
  {
   "cell_type": "markdown",
   "metadata": {},
   "source": [
    "## Construcción del dataset"
   ]
  },
  {
   "cell_type": "code",
   "execution_count": 3,
   "metadata": {},
   "outputs": [],
   "source": [
    "# Inclusión de features a partir de los valores de 'ProblemReported' y de la ventana de tiempo de 3 días definida:\n",
    "#     - Feature 'Problem': por cada día con 'ProblemReported' = 1, etiquetamos dicho día y los 2 días anteriores.\n",
    "#     - Feature 'DaysTo': días restantes hasta el siguiente 'ProblemReported'. Tras el último, se fijará a -1.\n",
    "for device in df.DeviceID.unique():\n",
    "    reported_array = df.loc[(df.DeviceID == device), 'ProblemReported'].values\n",
    "    reported_array = reported_array[::-1]             # Recorreremos el vector al contrario, facilitando la implementación\n",
    "    problem_array = np.zeros(len(reported_array))\n",
    "    daysto_array = np.zeros(len(reported_array))\n",
    "    problem_found = False                             # Flag para diferenciar el periodo en el que rellenar 'DaysTo' con -1\n",
    "    \n",
    "    for i in range(len(reported_array)):\n",
    "    \n",
    "        if not problem_found:\n",
    "            daysto_array[i] = -1                      # Rellenamos 'DaysTo' con -1 mientras no encontremos el último problema\n",
    "        else:\n",
    "            daysto_array[i] = daysto_array[i - 1] + 1 # Incrementamos 'DaysTo' mientras no encontremos otro problema anterior\n",
    "        \n",
    "        if reported_array[i] == 1:                    # Encontramos un problema y reiniciamos contadores de los arrays\n",
    "            problem_found = True\n",
    "            problem_array[i] = 1\n",
    "            daysto_array[i] = 0\n",
    "            \n",
    "            for j in range(i + 1, i + ROLLING_DAYS):  # En adelante al problema reportado, completamos la ventana de rolling\n",
    "                if j < len(reported_array):           # Evitamos el acceso a un índice fuera de los límites del array\n",
    "                    problem_array[j] = 1\n",
    "    \n",
    "    problem_array = problem_array[::-1]\n",
    "    df.loc[(df.DeviceID == device), 'Problem'] = problem_array\n",
    "    \n",
    "    daysto_array = daysto_array[::-1]\n",
    "    df.loc[(df.DeviceID == device), 'DaysTo'] = daysto_array"
   ]
  },
  {
   "cell_type": "markdown",
   "metadata": {},
   "source": [
    "#### A) Conjunto de train y dos de tests para detección de anomalías"
   ]
  },
  {
   "cell_type": "code",
   "execution_count": 4,
   "metadata": {},
   "outputs": [
    {
     "name": "stdout",
     "output_type": "stream",
     "text": [
      "(105366, 351)\n",
      "(4773, 351)\n",
      "(3984, 351)\n"
     ]
    }
   ],
   "source": [
    "# Train sin anomalías: registros con más de 18 meses (540 días) hasta el próximo problema reportado\n",
    "train_no_anomalies = df.loc[(df.DaysTo >= 540)]\n",
    "print(train_no_anomalies.shape)\n",
    "\n",
    "# Test sin anomalías: registros diferentes a los del conjunto de train\n",
    "test_no_anomalies = df.loc[(df.DaysTo >= 530) & (df.DaysTo < 540)]\n",
    "print(test_no_anomalies.shape)\n",
    "\n",
    "# Test con anomalías\n",
    "test_anomalies = df.loc[(df.ProblemReported == 1)]\n",
    "print(test_anomalies.shape)"
   ]
  },
  {
   "cell_type": "code",
   "execution_count": 5,
   "metadata": {
    "scrolled": false
   },
   "outputs": [
    {
     "name": "stdout",
     "output_type": "stream",
     "text": [
      "(114123, 17)\n"
     ]
    }
   ],
   "source": [
    "# Eliminación de features con poca variabilidad (desviación estándar < 0.01), nada útiles para modelar\n",
    "df_A = pd.concat([train_no_anomalies, test_no_anomalies, test_anomalies], ignore_index=True)\n",
    "low_std = {}\n",
    "\n",
    "for column in df_A.columns:\n",
    "    try:\n",
    "        if df_A[column].std() < 0.01:\n",
    "            low_std[column] = df_A[column].std()\n",
    "    except:\n",
    "        None\n",
    "\n",
    "df_A = df_A.drop([k for k in low_std.keys()], axis=1)\n",
    "\n",
    "# Tomar features escaladas, que sirvan al autoencoder.\n",
    "features = ['ProblemReported', 'DaysTo']\n",
    "features.extend([feature for feature in df_A.columns if 'Error_' in feature and len(feature) == 13])\n",
    "features.extend([feature for feature in df_A.columns if 'Fault_' in feature and len(feature) == 23])\n",
    "features.extend([feature for feature in df_A.columns if 'Problem_' in feature and len(feature) == 26])\n",
    "features.extend([feature for feature in df_A.columns if 'Warning_' in feature and len(feature) == 26])\n",
    "features.extend([feature for feature in df_A.columns if 'AE_' in feature and len(feature) == 17])\n",
    "\n",
    "df_A = df_A[features]\n",
    "print(df_A.shape)"
   ]
  },
  {
   "cell_type": "code",
   "execution_count": 6,
   "metadata": {},
   "outputs": [
    {
     "name": "stdout",
     "output_type": "stream",
     "text": [
      "(105366, 15)\n",
      "(4773, 15)\n",
      "(3984, 15)\n"
     ]
    }
   ],
   "source": [
    "# Train sin anomalías: registros con más de 18 meses (540 días) hasta el próximo problema reportado\n",
    "train_no_anomalies = df_A.loc[(df_A.DaysTo >= 540)]\n",
    "train_no_anomalies = train_no_anomalies.drop(['ProblemReported', 'DaysTo'], axis=1)\n",
    "print(train_no_anomalies.shape)\n",
    "\n",
    "# Test sin anomalías: registros diferentes a los del conjunto de train\n",
    "test_no_anomalies = df_A.loc[(df_A.DaysTo >= 530) & (df_A.DaysTo < 540)]\n",
    "test_no_anomalies = test_no_anomalies.drop(['ProblemReported', 'DaysTo'], axis=1)\n",
    "print(test_no_anomalies.shape)\n",
    "\n",
    "# Test con anomalías\n",
    "test_anomalies = df_A.loc[(df_A.ProblemReported == 1)]\n",
    "test_anomalies = test_anomalies.drop(['ProblemReported', 'DaysTo'], axis=1)\n",
    "print(test_anomalies.shape)"
   ]
  },
  {
   "cell_type": "code",
   "execution_count": 156,
   "metadata": {
    "scrolled": true
   },
   "outputs": [
    {
     "name": "stdout",
     "output_type": "stream",
     "text": [
      "Train on 100097 samples, validate on 5269 samples\n",
      "Epoch 1/30\n",
      "100097/100097 [==============================] - 10s 100us/step - loss: 0.0017 - val_loss: 4.3012e-04\n",
      "Epoch 2/30\n",
      "100097/100097 [==============================] - 9s 90us/step - loss: 0.0011 - val_loss: 3.7041e-04\n",
      "Epoch 3/30\n",
      "100097/100097 [==============================] - 9s 90us/step - loss: 9.5808e-04 - val_loss: 2.4887e-04\n",
      "Epoch 4/30\n",
      "100097/100097 [==============================] - 9s 91us/step - loss: 8.3517e-04 - val_loss: 1.9046e-04\n",
      "Epoch 5/30\n",
      "100097/100097 [==============================] - 9s 91us/step - loss: 7.9249e-04 - val_loss: 1.7794e-04\n",
      "Epoch 6/30\n",
      "100097/100097 [==============================] - 9s 91us/step - loss: 7.7362e-04 - val_loss: 1.8929e-04\n",
      "Epoch 7/30\n",
      "100097/100097 [==============================] - 9s 90us/step - loss: 7.6950e-04 - val_loss: 1.9448e-04\n",
      "Epoch 8/30\n",
      "100097/100097 [==============================] - 9s 90us/step - loss: 7.5757e-04 - val_loss: 1.8678e-04\n",
      "Epoch 9/30\n",
      "100097/100097 [==============================] - 9s 91us/step - loss: 7.2670e-04 - val_loss: 1.7457e-04\n",
      "Epoch 10/30\n",
      "100097/100097 [==============================] - 9s 92us/step - loss: 6.6653e-04 - val_loss: 1.7967e-04\n",
      "Epoch 11/30\n",
      "100097/100097 [==============================] - 9s 91us/step - loss: 6.3958e-04 - val_loss: 1.6141e-04\n",
      "Epoch 12/30\n",
      "100097/100097 [==============================] - 9s 94us/step - loss: 6.2855e-04 - val_loss: 1.5996e-04\n",
      "Epoch 13/30\n",
      "100097/100097 [==============================] - 10s 96us/step - loss: 6.2809e-04 - val_loss: 1.5688e-04\n",
      "Epoch 14/30\n",
      "100097/100097 [==============================] - 10s 97us/step - loss: 6.1877e-04 - val_loss: 2.1109e-04\n",
      "Epoch 15/30\n",
      "100097/100097 [==============================] - 9s 95us/step - loss: 6.1206e-04 - val_loss: 1.7052e-04\n",
      "Epoch 16/30\n",
      "100097/100097 [==============================] - 10s 95us/step - loss: 6.1002e-04 - val_loss: 1.5496e-04\n",
      "Epoch 17/30\n",
      "100097/100097 [==============================] - 10s 98us/step - loss: 6.0478e-04 - val_loss: 1.5660e-04\n",
      "Epoch 18/30\n",
      "100097/100097 [==============================] - 10s 99us/step - loss: 5.9980e-04 - val_loss: 1.5580e-04\n",
      "Epoch 19/30\n",
      "100097/100097 [==============================] - 9s 94us/step - loss: 5.9849e-04 - val_loss: 1.6154e-04\n",
      "Epoch 20/30\n",
      "100097/100097 [==============================] - 10s 95us/step - loss: 5.9392e-04 - val_loss: 1.4343e-04\n",
      "Epoch 21/30\n",
      "100097/100097 [==============================] - 9s 94us/step - loss: 5.8881e-04 - val_loss: 1.5413e-04\n",
      "Epoch 22/30\n",
      "100097/100097 [==============================] - 10s 96us/step - loss: 5.8667e-04 - val_loss: 1.5200e-04\n",
      "Epoch 23/30\n",
      "100097/100097 [==============================] - 10s 98us/step - loss: 5.8345e-04 - val_loss: 1.4895e-04\n",
      "Epoch 24/30\n",
      "100097/100097 [==============================] - 10s 95us/step - loss: 5.8148e-04 - val_loss: 1.6645e-04\n",
      "Epoch 25/30\n",
      "100097/100097 [==============================] - 10s 96us/step - loss: 7.0995e-04 - val_loss: 1.7651e-04\n",
      "Epoch 26/30\n",
      "100097/100097 [==============================] - 10s 97us/step - loss: 7.7837e-04 - val_loss: 1.7475e-04\n",
      "Epoch 27/30\n",
      "100097/100097 [==============================] - 10s 96us/step - loss: 7.6221e-04 - val_loss: 1.7888e-04\n",
      "Epoch 28/30\n",
      "100097/100097 [==============================] - 10s 98us/step - loss: 7.3600e-04 - val_loss: 1.8400e-04\n",
      "Epoch 29/30\n",
      "100097/100097 [==============================] - 10s 99us/step - loss: 7.2468e-04 - val_loss: 2.3153e-04\n",
      "Epoch 30/30\n",
      "100097/100097 [==============================] - 10s 102us/step - loss: 7.2074e-04 - val_loss: 2.2726e-04\n"
     ]
    }
   ],
   "source": [
    "# Modelo de detección de anomalías mediante un AutoEncoder\n",
    "seed = 2019\n",
    "np.random.seed(seed)\n",
    "\n",
    "act_func = 'relu'\n",
    "\n",
    "model = Sequential()\n",
    "model.add(Dense(10, input_dim=train_no_anomalies.shape[1], activation=act_func,\n",
    "                kernel_initializer='glorot_uniform', kernel_regularizer=regularizers.l2(0.0)))\n",
    "model.add(Dense(2,activation=act_func, kernel_initializer='glorot_uniform'))\n",
    "model.add(Dense(10,activation=act_func, kernel_initializer='glorot_uniform'))\n",
    "model.add(Dense(train_no_anomalies.shape[1], kernel_initializer='glorot_uniform'))\n",
    "\n",
    "model.compile(loss='mse',optimizer='nadam')\n",
    "\n",
    "NUM_EPOCHS = 30\n",
    "BATCH_SIZE = 10\n",
    "\n",
    "history = model.fit(train_no_anomalies, train_no_anomalies, batch_size=BATCH_SIZE, epochs=NUM_EPOCHS, validation_split=0.05)"
   ]
  },
  {
   "cell_type": "code",
   "execution_count": 163,
   "metadata": {},
   "outputs": [
    {
     "data": {
      "text/plain": [
       "(0, 30)"
      ]
     },
     "execution_count": 163,
     "metadata": {},
     "output_type": "execute_result"
    },
    {
     "data": {
      "image/png": "[encoded data removed]",
      "text/plain": [
       "<Figure size 432x288 with 1 Axes>"
      ]
     },
     "metadata": {},
     "output_type": "display_data"
    }
   ],
   "source": [
    "# Distribución de la función de pérdida en el conjunto de train\n",
    "X_pred = model.predict(train_no_anomalies)\n",
    "X_pred = pd.DataFrame(X_pred, columns=train_no_anomalies.columns, index=train_no_anomalies.index)\n",
    "\n",
    "scored = pd.DataFrame(index=train_no_anomalies.index)\n",
    "scored['Loss_mae'] = np.mean(np.abs(X_pred - train_no_anomalies), axis=1)\n",
    "plt.figure()\n",
    "sns.distplot(scored['Loss_mae'])\n",
    "plt.xlim([0, 1])\n",
    "plt.ylim([0, 30])"
   ]
  },
  {
   "cell_type": "code",
   "execution_count": 164,
   "metadata": {},
   "outputs": [
    {
     "data": {
      "text/plain": [
       "(0, 30)"
      ]
     },
     "execution_count": 164,
     "metadata": {},
     "output_type": "execute_result"
    },
    {
     "data": {
      "image/png": "[encoded data removed]",
      "text/plain": [
       "<Figure size 432x288 with 1 Axes>"
      ]
     },
     "metadata": {},
     "output_type": "display_data"
    }
   ],
   "source": [
    "# Predicción en el conjunto de test sin anomalías\n",
    "X_pred2 = model.predict(test_no_anomalies)\n",
    "X_pred2 = pd.DataFrame(X_pred2, columns=test_no_anomalies.columns, index=test_no_anomalies.index)\n",
    "\n",
    "scored2 = pd.DataFrame(index=test_no_anomalies.index)\n",
    "scored2['Loss_mae'] = np.mean(np.abs(X_pred2 - test_no_anomalies), axis=1)\n",
    "scored2['Threshold'] = scored.quantile(0.99)[0]\n",
    "scored2['Anomaly'] = scored2['Loss_mae'] > scored2['Threshold']\n",
    "\n",
    "plt.figure()\n",
    "sns.distplot(scored2['Loss_mae'])\n",
    "plt.xlim([0, 1])\n",
    "plt.ylim([0, 30])"
   ]
  },
  {
   "cell_type": "code",
   "execution_count": 165,
   "metadata": {},
   "outputs": [
    {
     "name": "stdout",
     "output_type": "stream",
     "text": [
      "Proporción de VN en el conjunto de test sin anomalías: 0.99\n"
     ]
    }
   ],
   "source": [
    "# Specificity: VN / N reales\n",
    "acc2 = scored2.loc[scored2.Anomaly == False].shape[0] / scored2.shape[0]\n",
    "print('Proporción de VN en el conjunto de test sin anomalías:', round(acc2, 2))"
   ]
  },
  {
   "cell_type": "code",
   "execution_count": 166,
   "metadata": {},
   "outputs": [
    {
     "data": {
      "text/plain": [
       "(0, 30)"
      ]
     },
     "execution_count": 166,
     "metadata": {},
     "output_type": "execute_result"
    },
    {
     "data": {
      "image/png": "[encoded data removed]",
      "text/plain": [
       "<Figure size 432x288 with 1 Axes>"
      ]
     },
     "metadata": {},
     "output_type": "display_data"
    }
   ],
   "source": [
    "# Predicción en el conjunto de test con anomalías\n",
    "X_pred3 = model.predict(test_anomalies)\n",
    "X_pred3 = pd.DataFrame(X_pred3, columns=test_anomalies.columns, index=test_anomalies.index)\n",
    "\n",
    "scored3 = pd.DataFrame(index=test_anomalies.index)\n",
    "scored3['Loss_mae'] = np.mean(np.abs(X_pred3 - test_anomalies), axis=1)\n",
    "scored3['Threshold'] = scored.quantile(0.99)[0]\n",
    "scored3['Anomaly'] = scored3['Loss_mae'] > scored3['Threshold']\n",
    "\n",
    "plt.figure()\n",
    "sns.distplot(scored3['Loss_mae'])\n",
    "plt.xlim([0, 1])\n",
    "plt.ylim([0, 30])"
   ]
  },
  {
   "cell_type": "code",
   "execution_count": 167,
   "metadata": {},
   "outputs": [
    {
     "name": "stdout",
     "output_type": "stream",
     "text": [
      "Proporción de VP en el conjunto de test con anomalías: 0.27\n"
     ]
    }
   ],
   "source": [
    "# Recall o Sensitivity: VP / P reales\n",
    "acc3 = scored3.loc[scored3.Anomaly == True].shape[0] / scored3.shape[0]\n",
    "print('Proporción de VP en el conjunto de test con anomalías:', round(acc3, 2))"
   ]
  },
  {
   "cell_type": "code",
   "execution_count": 168,
   "metadata": {},
   "outputs": [
    {
     "name": "stdout",
     "output_type": "stream",
     "text": [
      "Precisión (proporción de VP entre el total de Positivos etiquetados): 0.95\n"
     ]
    }
   ],
   "source": [
    "# Precision: VP / P etiquetados = VP / (VP + FP)\n",
    "fp_pred2 = scored2.shape[0] - (acc2 * scored2.shape[0])\n",
    "vp_pred3 = acc3 * scored3.shape[0]\n",
    "\n",
    "prob_vp = vp_pred3 / (fp_pred2 + vp_pred3)\n",
    "print('Precisión (proporción de VP entre el total de Positivos etiquetados):', round(prob_vp, 2))"
   ]
  },
  {
   "cell_type": "code",
   "execution_count": 170,
   "metadata": {},
   "outputs": [],
   "source": [
    "# Guardamos el modelo y los datasets\n",
    "import pickle\n",
    "import os\n",
    "\n",
    "try:\n",
    "    os.mkdir('Anomaly Detection')\n",
    "except:\n",
    "    None\n",
    "\n",
    "pickle.dump(model, open('./Anomaly Detection/autoencoder_model.sav', 'wb'))\n",
    "\n",
    "train_no_anomalies.to_pickle('./Anomaly Detection/train_no_anomalies.pkl')\n",
    "test_no_anomalies.to_pickle('./Anomaly Detection/test_no_anomalies.pkl')\n",
    "test_anomalies.to_pickle('./Anomaly Detection/test_anomalies.pkl')"
   ]
  }
 ],
 "metadata": {
  "anaconda-cloud": {},
  "kernelspec": {
   "display_name": "Python 3",
   "language": "python",
   "name": "python3"
  },
  "language_info": {
   "codemirror_mode": {
    "name": "ipython",
    "version": 3
   },
   "file_extension": ".py",
   "mimetype": "text/x-python",
   "name": "python",
   "nbconvert_exporter": "python",
   "pygments_lexer": "ipython3",
   "version": "3.6.5"
  }
 },
 "nbformat": 4,
 "nbformat_minor": 2
}
