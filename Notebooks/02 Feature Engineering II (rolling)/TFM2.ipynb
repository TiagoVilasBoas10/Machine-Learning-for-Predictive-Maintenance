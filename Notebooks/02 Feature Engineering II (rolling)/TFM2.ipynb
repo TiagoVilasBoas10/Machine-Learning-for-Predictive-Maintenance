{
 "cells": [
  {
   "cell_type": "code",
   "execution_count": 1,
   "metadata": {},
   "outputs": [],
   "source": [
    "import subprocess\n",
    "import sys\n",
    "import os\n",
    "import re\n",
    "import atexit\n",
    "import numpy as np\n",
    "import seaborn as sns\n",
    "import matplotlib.pyplot as plt\n",
    "import pandas as pd\n",
    "import ipywidgets as widgets\n",
    "import datetime as dt\n",
    "from sklearn.preprocessing import OneHotEncoder\n",
    "from IPython.display import clear_output\n",
    "\n",
    "# Librería para evitar mensajes de warning al ejecutar código Python\n",
    "#import warnings\n",
    "#warnings.simplefilter(action='ignore', category=FutureWarning)\n",
    "#warnings.simplefilter(action='ignore')\n",
    "\n",
    "# Librería para cronometrar tiempos de ejecución\n",
    "#import time\n",
    "#start_time = time.time()"
   ]
  },
  {
   "cell_type": "markdown",
   "metadata": {},
   "source": [
    "## Carga de datos"
   ]
  },
  {
   "cell_type": "code",
   "execution_count": 2,
   "metadata": {
    "scrolled": false
   },
   "outputs": [],
   "source": [
    "df = pd.read_pickle('./sampledata2.pkl')"
   ]
  },
  {
   "cell_type": "markdown",
   "metadata": {},
   "source": [
    "## Feature Engineering II"
   ]
  },
  {
   "cell_type": "code",
   "execution_count": 3,
   "metadata": {},
   "outputs": [],
   "source": [
    "# Dataframe de features a las que aplicar medidas estadísticas móviles\n",
    "moving_features = ['Date', 'DeviceID']\n",
    "moving_features.extend([feature for feature in df.columns if 'Error' in feature and len(feature) == 13])\n",
    "moving_features.extend([feature for feature in df.columns if 'Problem' in feature and len(feature) == 26])\n",
    "moving_features.extend([feature for feature in df.columns if 'Fault' in feature and len(feature) == 29])\n",
    "moving_features.extend([feature for feature in df.columns if 'Warning_Type' in feature and len(feature) == 26])\n",
    "moving_features.extend([feature for feature in df.columns if 'AE' in feature])\n",
    "df_moving = df[moving_features]\n",
    "\n",
    "# Ventanas de longitug 3, 7, 15, 30 y 90 días\n",
    "time_windows = ['3d', '7d', '15d', '30d', '90d']"
   ]
  },
  {
   "cell_type": "code",
   "execution_count": 4,
   "metadata": {},
   "outputs": [
    {
     "name": "stdout",
     "output_type": "stream",
     "text": [
      "Media móvil de 3d terminada.\n",
      "Desv. estándar móvil de 3d terminada.\n",
      "Máximo móvil de 3d terminado.\n",
      "Mínimo móvil de 3d terminado.\n",
      "Media móvil de 7d terminada.\n",
      "Desv. estándar móvil de 7d terminada.\n",
      "Máximo móvil de 7d terminado.\n",
      "Mínimo móvil de 7d terminado.\n",
      "Media móvil de 15d terminada.\n",
      "Desv. estándar móvil de 15d terminada.\n",
      "Máximo móvil de 15d terminado.\n",
      "Mínimo móvil de 15d terminado.\n",
      "Media móvil de 30d terminada.\n",
      "Desv. estándar móvil de 30d terminada.\n",
      "Máximo móvil de 30d terminado.\n",
      "Mínimo móvil de 30d terminado.\n",
      "Media móvil de 90d terminada.\n",
      "Desv. estándar móvil de 90d terminada.\n",
      "Máximo móvil de 90d terminado.\n",
      "Mínimo móvil de 90d terminado.\n"
     ]
    }
   ],
   "source": [
    "for time_w in time_windows:\n",
    "    dfs_devices_mean, dfs_devices_std, dfs_devices_max, dfs_devices_min = [], [], [], []\n",
    "    dfs_devices_window = pd.DataFrame()\n",
    "    \n",
    "    # Media móvil\n",
    "    for device in df_moving.DeviceID.unique():\n",
    "        df_device = df_moving.loc[(df_moving.DeviceID == device)]\n",
    "        df_device = df_device.drop('DeviceID', axis=1)\n",
    "        df_device = df_device.set_index('Date')\n",
    "        df_device = df_device.rolling(time_w).mean()\n",
    "        dfs_devices_mean.append(df_device)\n",
    "    \n",
    "    print('Media móvil de', time_w, 'terminada.')\n",
    "    dfs_devices_mean = pd.concat([df_device for df_device in dfs_devices_mean], ignore_index=True)\n",
    "    dfs_devices_mean.columns = [feature + '_Roll_Mean_' + time_w for feature in dfs_devices_mean.columns]\n",
    "    \n",
    "    # Desviación estándar móvil\n",
    "    for device in df_moving.DeviceID.unique():\n",
    "        df_device = df_moving.loc[(df_moving.DeviceID == device)]\n",
    "        df_device = df_device.drop('DeviceID', axis=1)\n",
    "        df_device = df_device.set_index('Date')\n",
    "        df_device = df_device.rolling(time_w).std()\n",
    "        dfs_devices_std.append(df_device)\n",
    "    \n",
    "    print('Desv. estándar móvil de', time_w, 'terminada.')\n",
    "    dfs_devices_std = pd.concat([df_device for df_device in dfs_devices_std], ignore_index=True)\n",
    "    dfs_devices_std.columns = [feature + '_Roll_Std_' + time_w for feature in dfs_devices_std.columns]\n",
    "    \n",
    "    # Máximo móvil\n",
    "    for device in df_moving.DeviceID.unique():\n",
    "        df_device = df_moving.loc[(df_moving.DeviceID == device)]\n",
    "        df_device = df_device.drop('DeviceID', axis=1)\n",
    "        df_device = df_device.set_index('Date')\n",
    "        df_device = df_device.rolling(time_w).max()\n",
    "        dfs_devices_max.append(df_device)\n",
    "    \n",
    "    print('Máximo móvil de', time_w, 'terminado.')\n",
    "    dfs_devices_max = pd.concat([df_device for df_device in dfs_devices_max], ignore_index=True)\n",
    "    dfs_devices_max.columns = [feature + '_Roll_Max_' + time_w for feature in dfs_devices_max.columns]\n",
    "    \n",
    "    # Mínimo móvil\n",
    "    for device in df_moving.DeviceID.unique():\n",
    "        df_device = df_moving.loc[(df_moving.DeviceID == device)]\n",
    "        df_device = df_device.drop('DeviceID', axis=1)\n",
    "        df_device = df_device.set_index('Date')\n",
    "        df_device = df_device.rolling(time_w).min()\n",
    "        dfs_devices_min.append(df_device)\n",
    "    \n",
    "    print('Mínimo móvil de', time_w, 'terminado.')\n",
    "    dfs_devices_min = pd.concat([df_device for df_device in dfs_devices_min], ignore_index=True)\n",
    "    dfs_devices_min.columns = [feature + '_Roll_Min_' + time_w for feature in dfs_devices_min.columns]\n",
    "    \n",
    "    # Concatenación de las features obtenidas de las 4 medidas móviles y guardado de los datos\n",
    "    dfs_devices_window = pd.concat([dfs_devices_mean, dfs_devices_std, dfs_devices_max, dfs_devices_min], axis=1)\n",
    "    dfs_devices_window.to_pickle('./df_rolling_' + time_w + '.pkl')"
   ]
  },
  {
   "cell_type": "markdown",
   "metadata": {},
   "source": [
    "## Guardado de datos"
   ]
  },
  {
   "cell_type": "code",
   "execution_count": 5,
   "metadata": {},
   "outputs": [
    {
     "name": "stdout",
     "output_type": "stream",
     "text": [
      "El fichero ./df_rolling_3d.pkl se ha guardado correctamente.\n",
      "El fichero ./df_rolling_7d.pkl se ha guardado correctamente.\n",
      "El fichero ./df_rolling_15d.pkl se ha guardado correctamente.\n",
      "El fichero ./df_rolling_30d.pkl se ha guardado correctamente.\n",
      "El fichero ./df_rolling_90d.pkl se ha guardado correctamente.\n"
     ]
    }
   ],
   "source": [
    "rolling_files = ['./df_rolling_' + time_w + '.pkl' for time_w in time_windows]\n",
    "\n",
    "for r_file in rolling_files:\n",
    "    df_rolling = pd.read_pickle(r_file)\n",
    "    df_rolling = pd.concat([df, df_rolling], axis=1)\n",
    "    df_rolling.to_pickle(r_file)\n",
    "    print('El fichero', r_file, 'se ha guardado correctamente.')"
   ]
  }
 ],
 "metadata": {
  "anaconda-cloud": {},
  "kernelspec": {
   "display_name": "Python 3",
   "language": "python",
   "name": "python3"
  },
  "language_info": {
   "codemirror_mode": {
    "name": "ipython",
    "version": 3
   },
   "file_extension": ".py",
   "mimetype": "text/x-python",
   "name": "python",
   "nbconvert_exporter": "python",
   "pygments_lexer": "ipython3",
   "version": "3.6.5"
  }
 },
 "nbformat": 4,
 "nbformat_minor": 2
}
